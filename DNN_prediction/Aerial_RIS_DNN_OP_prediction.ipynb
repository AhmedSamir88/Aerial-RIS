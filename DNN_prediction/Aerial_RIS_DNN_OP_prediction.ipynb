{
  "nbformat": 4,
  "nbformat_minor": 0,
  "metadata": {
    "colab": {
      "name": "Aerial_RIS_DNN_OP_prediction.ipynb",
      "provenance": []
    },
    "kernelspec": {
      "name": "python3",
      "display_name": "Python 3"
    },
    "language_info": {
      "name": "python"
    }
  },
  "cells": [
    {
      "cell_type": "code",
      "metadata": {
        "id": "_5i69LuOXxF7"
      },
      "source": [
        "import pandas as pd\n",
        "import numpy as np\n",
        "import matplotlib.pyplot as plt\n",
        "import tensorflow as tf\n",
        "from tensorflow import keras\n",
        "from sklearn.metrics import mean_squared_error\n",
        "from keras.callbacks import ReduceLROnPlateau\n",
        "from sklearn.model_selection import train_test_split\n",
        "from keras.layers import BatchNormalization\n",
        "from tensorflow.keras.layers import Dense, Dropout, Activation"
      ],
      "execution_count": 2,
      "outputs": []
    },
    {
      "cell_type": "code",
      "metadata": {
        "id": "rFTEpilDX5OZ"
      },
      "source": [
        "# Tuning parameters\n",
        "EPOCHS = 20  # The number of round for training.\n",
        "BATCH_SIZE = 500\n",
        "LEARNING_RATE = 1e-3\n",
        "MSE_THRESHOLD = 1e-2"
      ],
      "execution_count": 3,
      "outputs": []
    },
    {
      "cell_type": "code",
      "metadata": {
        "colab": {
          "base_uri": "https://localhost:8080/"
        },
        "id": "mA362F8UX9z4",
        "outputId": "d88f8d40-5d7c-4f2d-ef45-2b2b8183b593"
      },
      "source": [
        "# Import the data set\n",
        "data_set = pd.read_csv('data_set_small.csv')\n",
        "\n",
        "print('The shape of the data set is: ', data_set.shape)\n",
        "\n",
        "df = pd.DataFrame(data_set)\n",
        "X_in = df.iloc[:, :13]  # select the first 13 feature columns\n",
        "y_in = df.iloc[:, 13]  # select the last column\n",
        "\n",
        "# Split train set and test set\n",
        "X_train, X_test, y_train, y_test = train_test_split(X_in, y_in,\n",
        "                                                    test_size = 0.1,\n",
        "                                                    random_state = 0)"
      ],
      "execution_count": 4,
      "outputs": [
        {
          "output_type": "stream",
          "text": [
            "The shape of the data set is:  (19999, 14)\n"
          ],
          "name": "stdout"
        }
      ]
    },
    {
      "cell_type": "code",
      "metadata": {
        "colab": {
          "base_uri": "https://localhost:8080/"
        },
        "id": "LYd51eyrYFqh",
        "outputId": "0ea0287a-ecf0-4949-ea2d-b02b57ac5f21"
      },
      "source": [
        "# Build a feed-forward DNN\n",
        "input_dim = X_in.shape[1]\n",
        "\n",
        "# Input layer\n",
        "model = tf.keras.Sequential()\n",
        "# Hidden layers\n",
        "model.add(tf.keras.layers.Dense(128,\n",
        "                             activation = 'relu',\n",
        "                             input_shape = (input_dim,),\n",
        "                             kernel_initializer = 'normal'))\n",
        "model.add(tf.keras.layers.Dense(128,\n",
        "                             activation = 'relu',\n",
        "                             kernel_initializer = 'normal'))\n",
        "model.add(tf.keras.layers.Dense(128,\n",
        "                             activation = 'relu',\n",
        "                             kernel_initializer = 'normal'))\n",
        "model.add(tf.keras.layers.Dense(128,\n",
        "                             activation = 'relu',\n",
        "                             kernel_initializer = 'normal'))\n",
        "model.add(tf.keras.layers.Dense(128,\n",
        "                             activation = 'relu',\n",
        "                             kernel_initializer = 'normal'))\n",
        "# Output layer\n",
        "model.add(tf.keras.layers.Dense(1,\n",
        "                             activation = 'linear',\n",
        "                             kernel_initializer = 'normal'))\n",
        "\n",
        "# Improve the training by reducing the learning rate\n",
        "reduce_lr = ReduceLROnPlateau(monitor = 'val_loss',\n",
        "                              factor = 0.2,\n",
        "                              patience = 5,\n",
        "                              min_lr = 1e-10)\n",
        "\n",
        "optimizer = keras.optimizers.Adam(lr = LEARNING_RATE)\n",
        "\n",
        "model.compile(optimizer = optimizer,\n",
        "              loss = 'mse',\n",
        "              metrics = ['mse'])\n",
        "\n",
        "\n",
        "print('The structure of the DNN model is: \\n', model.summary())\n"
      ],
      "execution_count": 5,
      "outputs": [
        {
          "output_type": "stream",
          "text": [
            "Model: \"sequential\"\n",
            "_________________________________________________________________\n",
            "Layer (type)                 Output Shape              Param #   \n",
            "=================================================================\n",
            "dense (Dense)                (None, 128)               1792      \n",
            "_________________________________________________________________\n",
            "dense_1 (Dense)              (None, 128)               16512     \n",
            "_________________________________________________________________\n",
            "dense_2 (Dense)              (None, 128)               16512     \n",
            "_________________________________________________________________\n",
            "dense_3 (Dense)              (None, 128)               16512     \n",
            "_________________________________________________________________\n",
            "dense_4 (Dense)              (None, 128)               16512     \n",
            "_________________________________________________________________\n",
            "dense_5 (Dense)              (None, 1)                 129       \n",
            "=================================================================\n",
            "Total params: 67,969\n",
            "Trainable params: 67,969\n",
            "Non-trainable params: 0\n",
            "_________________________________________________________________\n",
            "The structure of the DNN model is: \n",
            " None\n"
          ],
          "name": "stdout"
        },
        {
          "output_type": "stream",
          "text": [
            "/usr/local/lib/python3.7/dist-packages/tensorflow/python/keras/optimizer_v2/optimizer_v2.py:375: UserWarning: The `lr` argument is deprecated, use `learning_rate` instead.\n",
            "  \"The `lr` argument is deprecated, use `learning_rate` instead.\")\n"
          ],
          "name": "stderr"
        }
      ]
    },
    {
      "cell_type": "code",
      "metadata": {
        "colab": {
          "base_uri": "https://localhost:8080/"
        },
        "id": "ouNpUv_5YYor",
        "outputId": "7ee6b03b-f4f0-41c6-ae3c-360980153dd8"
      },
      "source": [
        "history = model.fit(X_train, y_train,\n",
        "                    validation_split = 0.1,\n",
        "                    epochs = EPOCHS,\n",
        "                    batch_size = BATCH_SIZE,\n",
        "                    callbacks = [reduce_lr],\n",
        "                    verbose = 0\n",
        "                    )\n",
        "\n",
        "print(history.history.keys())  # check metric keys before plotting"
      ],
      "execution_count": 6,
      "outputs": [
        {
          "output_type": "stream",
          "text": [
            "dict_keys(['loss', 'mse', 'val_loss', 'val_mse', 'lr'])\n"
          ],
          "name": "stdout"
        }
      ]
    },
    {
      "cell_type": "code",
      "metadata": {
        "colab": {
          "base_uri": "https://localhost:8080/",
          "height": 297
        },
        "id": "0R5uvcyWYbpn",
        "outputId": "1ce5dd62-389f-44d1-ce7b-20a07f5b73ec"
      },
      "source": [
        "plt.figure(figsize = (6, 4))  # set figure ratio\n",
        "plt.plot(history.history['mse'], label = 'Training')\n",
        "plt.plot(history.history['val_mse'], label = 'Validation'),\n",
        "plt.yscale('log')\n",
        "plt.grid(True)\n",
        "plt.ylabel('MSE (for validation)')\n",
        "plt.xlabel('Epochs')\n",
        "plt.legend(loc = 'upper right')\n",
        "plt.tight_layout()  # avoid missing x-label or y-label\n",
        "plt.savefig('fig_validation.pdf', format = 'pdf')\n",
        "plt.show()"
      ],
      "execution_count": 8,
      "outputs": [
        {
          "output_type": "display_data",
          "data": {
            "image/png": "[encoded data removed]",
            "text/plain": [
              "<Figure size 432x288 with 1 Axes>"
            ]
          },
          "metadata": {
            "tags": [],
            "needs_background": "light"
          }
        }
      ]
    },
    {
      "cell_type": "code",
      "metadata": {
        "id": "prSBXtgJYhZd"
      },
      "source": [
        "# Save the trained DNN model\n",
        "model.save('trained_DNN.h5')"
      ],
      "execution_count": 9,
      "outputs": []
    },
    {
      "cell_type": "code",
      "metadata": {
        "colab": {
          "base_uri": "https://localhost:8080/"
        },
        "id": "n3cTNo8kYiJ5",
        "outputId": "ee6071e4-bcd7-4030-a9e2-5b71ade13a45"
      },
      "source": [
        "# verify the trained model\n",
        "model_trained = keras.models.load_model('trained_DNN.h5')\n",
        "y_pred = model_trained.predict(X_test)\n",
        "\n",
        "# Compute the RMSE\n",
        "RMSE_trained = np.sqrt(mean_squared_error(y_test, y_pred))\n",
        "print('RMSE is: ', RMSE_trained)\n",
        "\n",
        "if RMSE_trained < MSE_THRESHOLD:\n",
        "    print('Qualified trained model!')\n",
        "else:\n",
        "    print('Re-train the model.')"
      ],
      "execution_count": 10,
      "outputs": [
        {
          "output_type": "stream",
          "text": [
            "RMSE is:  0.004244320124381034\n",
            "Qualified trained model!\n"
          ],
          "name": "stdout"
        }
      ]
    },
    {
      "cell_type": "code",
      "metadata": {
        "colab": {
          "base_uri": "https://localhost:8080/"
        },
        "id": "Pr26eWJ-YmCQ",
        "outputId": "9b2a0d39-61a6-43f1-854a-d49588fcc638"
      },
      "source": [
        "# -------------------------------------------------------\n",
        "# Get predicted results after the trained model is qualified\n",
        "\n",
        "if RMSE_trained < MSE_THRESHOLD:\n",
        "    # Load the qualified trained model\n",
        "    model_trained_qualified = \\\n",
        "        keras.models.load_model('trained_DNN.h5')\n",
        "    \n",
        "    # Input parameters\n",
        "    snrdB    = [-10, -8, -6, -4, -2,\n",
        "                0, 2, 4, 6, 8, 10, 12,\n",
        "                14, 16, 18, 20]  #1 snrdB\n",
        "    N        = 20 #2\n",
        "    omegaR   = 1 #3\n",
        "    rR       = 1 #4\n",
        "    hR       = 1 #5\n",
        "    m_Sr     = 2.5 #6\n",
        "    m_rD     = 2.5 #7\n",
        "    alpha_Sr = 3 #8\n",
        "    alpha_rD = 3 #9\n",
        "    beta_Sr  = 1 #10\n",
        "    beta_rD  = 1 #11\n",
        "    eta      = 1 #12\n",
        "    R_th     = 5 #13\n",
        "    \n",
        "    out_put = np.zeros((len(snrdB),1))\n",
        "    \n",
        "    for idx in np.arange(len(snrdB)):\n",
        "        input_parameters = [snrdB[idx], N, omegaR, rR, hR,\n",
        "                            m_Sr, m_rD, alpha_Sr, alpha_rD,\n",
        "                            beta_Sr, beta_rD, eta, R_th]\n",
        "        X_test = np.array(input_parameters).reshape(1, -1)\n",
        "        y_predict = model_trained_qualified.predict(X_test)\n",
        "        out_put[idx] = np.abs(y_predict)\n",
        "        print('Prediction P_out is ', np.abs(y_predict),\n",
        "              'when PS_dB is', snrdB[idx])\n",
        "    \n",
        "    print('All outputs are: \\n', out_put)"
      ],
      "execution_count": 11,
      "outputs": [
        {
          "output_type": "stream",
          "text": [
            "Prediction P_out is  [[1.0142542]] when PS_dB is -10\n",
            "Prediction P_out is  [[0.9969195]] when PS_dB is -8\n",
            "Prediction P_out is  [[0.9867813]] when PS_dB is -6\n",
            "Prediction P_out is  [[0.97577626]] when PS_dB is -4\n",
            "Prediction P_out is  [[0.9357483]] when PS_dB is -2\n",
            "Prediction P_out is  [[0.7945438]] when PS_dB is 0\n",
            "Prediction P_out is  [[0.5771429]] when PS_dB is 2\n",
            "Prediction P_out is  [[0.29511613]] when PS_dB is 4\n",
            "Prediction P_out is  [[0.0900092]] when PS_dB is 6\n",
            "Prediction P_out is  [[0.01601804]] when PS_dB is 8\n",
            "Prediction P_out is  [[0.00142307]] when PS_dB is 10\n",
            "Prediction P_out is  [[0.00056921]] when PS_dB is 12\n",
            "Prediction P_out is  [[0.00010989]] when PS_dB is 14\n",
            "Prediction P_out is  [[0.00013184]] when PS_dB is 16\n",
            "Prediction P_out is  [[8.5603446e-05]] when PS_dB is 18\n",
            "Prediction P_out is  [[0.00010815]] when PS_dB is 20\n",
            "All outputs are: \n",
            " [[1.01425421e+00]\n",
            " [9.96919513e-01]\n",
            " [9.86781299e-01]\n",
            " [9.75776255e-01]\n",
            " [9.35748279e-01]\n",
            " [7.94543803e-01]\n",
            " [5.77142894e-01]\n",
            " [2.95116127e-01]\n",
            " [9.00091976e-02]\n",
            " [1.60180405e-02]\n",
            " [1.42306834e-03]\n",
            " [5.69207594e-04]\n",
            " [1.09888613e-04]\n",
            " [1.31841749e-04]\n",
            " [8.56034458e-05]\n",
            " [1.08147040e-04]]\n"
          ],
          "name": "stdout"
        }
      ]
    }
  ]
}